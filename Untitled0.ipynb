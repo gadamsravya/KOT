{
  "nbformat": 4,
  "nbformat_minor": 0,
  "metadata": {
    "colab": {
      "name": "Untitled0.ipynb",
      "provenance": [],
      "authorship_tag": "ABX9TyP00LZqiLmiUQQJ9CIEQyUx",
      "include_colab_link": true
    },
    "kernelspec": {
      "name": "python3",
      "display_name": "Python 3"
    }
  },
  "cells": [
    {
      "cell_type": "markdown",
      "metadata": {
        "id": "view-in-github",
        "colab_type": "text"
      },
      "source": [
        "<a href=\"https://colab.research.google.com/github/gadamsravya/KOT/blob/master/Untitled0.ipynb\" target=\"_parent\"><img src=\"https://colab.research.google.com/assets/colab-badge.svg\" alt=\"Open In Colab\"/></a>"
      ]
    },
    {
      "cell_type": "code",
      "metadata": {
        "id": "zzBqGFTouNxX",
        "colab_type": "code",
        "colab": {
          "base_uri": "https://localhost:8080/",
          "height": 34
        },
        "outputId": "a922a6e1-4d4e-45d4-b9b1-6b42b95aa8e0"
      },
      "source": [
        "pip install apyori"
      ],
      "execution_count": 4,
      "outputs": [
        {
          "output_type": "stream",
          "text": [
            "Requirement already satisfied: apyori in /usr/local/lib/python3.6/dist-packages (1.1.2)\n"
          ],
          "name": "stdout"
        }
      ]
    },
    {
      "cell_type": "code",
      "metadata": {
        "id": "RtvRvHgzEe-W",
        "colab_type": "code",
        "colab": {}
      },
      "source": [
        "import pandas as pd"
      ],
      "execution_count": 5,
      "outputs": []
    },
    {
      "cell_type": "code",
      "metadata": {
        "id": "LiiG27awE-Yl",
        "colab_type": "code",
        "colab": {
          "base_uri": "https://localhost:8080/",
          "height": 70
        },
        "outputId": "78f1eca3-85a7-4a22-dc8f-08d54019b554"
      },
      "source": [
        "#Loading the training data\n",
        "\n",
        "file_path = \"/content/KOT_Data.csv\"\n",
        "df = pd.read_csv(file_path)\n",
        "df = df.dropna() \n",
        "print(df.columns)"
      ],
      "execution_count": 6,
      "outputs": [
        {
          "output_type": "stream",
          "text": [
            "Index(['Indx', 'RestaurantName', 'Classification', 'ItemName', 'Rate',\n",
            "       'Quantity', 'Total_Amount', 'Bill_No'],\n",
            "      dtype='object')\n"
          ],
          "name": "stdout"
        }
      ]
    },
    {
      "cell_type": "code",
      "metadata": {
        "id": "C6F7trQqGgXx",
        "colab_type": "code",
        "colab": {
          "base_uri": "https://localhost:8080/",
          "height": 54
        },
        "outputId": "10ba8b95-b9f2-466b-ce3f-fcf86488c3e6"
      },
      "source": [
        "#Category Dictionary Defination\n",
        "\n",
        "file_path_cat = \"/content/Unique_ItemName.csv\"\n",
        "cat_df = pd.read_csv(file_path_cat)\n",
        "ItemDef = cat_df[\"ItemName\"]\n",
        "itemlist = ItemDef.values.tolist()\n",
        "cat_dict = {}\n",
        "for (i,item) in enumerate(itemlist):\n",
        "  cat_dict[item] = i\n",
        "print(cat_dict)"
      ],
      "execution_count": 7,
      "outputs": [
        {
          "output_type": "stream",
          "text": [
            "{'chilly chicken': 0, 'tandoori chicken': 1, 'paneer butter masala': 2, 'veg fried rice': 3, 'apollo fish': 4, 'loose fried prawns': 5, 'sambar rice': 6, 'curd rice': 7, 'mutton biriyani': 8, 'aloo paratha': 9, 'tangdi kebab': 10, 'chilli mushroom': 11, 'chicken biriyani': 12, 'veg manchurian': 13, 'pepper chicken': 14, 'chicken majestic': 15, 'dal tadka': 16, 'butter naan': 17, 'jeera rice': 18, 'butter chicken': 19, 'plain naan': 20, 'baby corn salt & papper': 21, 'chicken hariyali tikka': 22, 'chilly mushroom': 23, 'kheema biryani': 24, 'chicken angara kebab': 25, 'peanut': 26, 'murgh malai kebab': 27, 'paneer hariyali tikka': 28, 'paneer tikka masala': 29, 'mutton family pack': 30, 'fish kebab': 31, 'mutton dum biryani': 32, 'mixed non veg fried rice': 33, 'garlic naan': 34, 'package drinking water': 35, 'sweet corn veg': 36, 'manchow veg': 37, 'veg. spring roll': 38, 'peshawari paneer tikka': 39, 'ajwan fish tikka': 40, 'veg dum biryani': 41, 'mutton dum pukht': 42, 'phulka': 43, 'chicken soft noodles': 44, 'chicken dum biriyani': 45, 'manchow chicken': 46, 'chicken 65': 47, 'chicken lollipop': 48, 'veg biryani': 49, 'kodi pulao': 50, 'french fries': 51, 'banjara kabab': 52, 'mutton rogan josh': 53, 'murgh tikka masala': 54, 'natukodi biryani': 55, 'prawns biryani': 56, 'andhra chicken curry': 57, 'steamed rice': 58, 'tandoori roti': 59, 'kadai chicken': 60, 'kodi khorma': 61, 'drums of heaven': 62, 'veg. / gobi manchurian': 63, 'egg fried rice': 64, 'mix veg curry': 65, 'gulab jamun with ice cream': 66, 'tomato kaju curry': 67, 'gogura mutton biriyani': 68, 'kaju pulao': 69, 'veg kolapuri': 70, 'chicken tikka': 71, 'garden fresh green salad': 72, 'natukodi pulao': 73, 'omlet': 74, 'mushroom masala': 75, 'angara kabab': 76, 'golden fried prawns': 77, 'veg manchow soup': 78, 'curd': 79, 'crispy corn pepper salt': 80, 'crispy fish': 81, 'veg seka kebab': 82, 'egg burji': 83, 'pulka': 84, 'chicken manchow': 85, 'drumsticks': 86, 'kadai mutton': 87, 'fresh lime water': 88, 'egg masala': 89, 'singapore mixed nonveg noodles': 90, 'bisibela bath': 91, 'paneer biriyani': 92, 'gongura mutton biriyani': 93, 'mushroom salt pepper': 94, 'laynka kabab': 95, 'singapore chicken fried rice': 96, 'prawns masala': 97, 'chilli egg': 98, 'raju garikodi pulao': 99, 'mancho soup': 100, 'red hot chicken': 101, 'methi chaman veg': 102, 'egg biryani': 103, 'sweet corn nonveg soup': 104, 'chicken sweet corn veg': 105, 'veg sweet corn veg': 106, 'paneer majestic': 107, 'veg soft noodles': 108, 'murgh tangdi biryani': 109, 'mix veg khorma': 110, 'american chopsy veg': 111, 'methi paneer': 112, 'butter pulkha': 113, 'a tadka': 114, 'chilly egg': 115, 'palak paneer': 116, 'lasooni fish': 117, 'chicken fried rice': 118, 'pot tea': 119, 'cool drinks': 120, 'lemon tea': 121, 'chicken family pack': 128, 'soda': 123, 'coffee': 124, 'tangdi kebab biryani': 125, 'chicken drum stick': 126, 'fried fish': 127, 'hyderabadi chicken dum biriyani': 129, 'chilly paneer': 130, 'mixed non veg noodles': 131, 'kadai paneer': 132, 'butter roti': 133, 'methi roti': 134, 'butter kulcha': 135, 'kass special butter chicken': 136, 'dal fry': 137, 'malai kofta': 138, 'veg schezwan fried rice': 139, 'schezwan chicken fried rice': 140, 'gobi manchurian': 141, 'murgh haryali tikka': 142, 'kachi gosht dum biryani': 143, 'chicken biriyani family': 144, 'kadai prawns': 145, 'chicken schezwan noodles': 146, 'chicken party pack': 147, 'butter paratha': 148, 'chilly loose fried prawns': 149, 'egg noodles': 150, 'schezwan chicken': 151, 'plain paratha': 152, 'chicken avakaya biryani': 153, 'mutton party pack': 154, 'kadai murgh': 155, 'mutton avakaya biryani': 156, 'fried prawns': 157, 'pudina roti': 158, 'veg spring roll': 159, 'fish biryani': 160, 'paneer paratha': 161, 'paneer tadaka': 162, 'babycorn masala': 163, 'dum ka murgh..': 164, 'zafarni panner curry': 165, 'paneer fried rice': 166, 'kaju biryani': 167, 'aloo 65': 168, 'mixed veg fried rice': 169, 'chicken spring roll': 170, 'veg family pack': 171, 'chicken soup': 172, 'prawns fried rice': 173, 'hot n sour chicken soup': 174, 'gungara chicken dum biriyani': 175, 'chicken biriyani family pack': 176, 'kaju paneer curry': 177, 'royyala iguru': 178, 'crispy fried vegetable': 179, 'chicken curry': 180, 'methi murg': 181, 'chicken fry': 182, 'prawns pulao': 183, 'three spice- chicken': 184, 'telangana mutton curry': 185, 'babycorn majestic': 186, 'subzi do payaza': 187, 'dragon chicken..': 188, 'tawa fish': 189, 'tea': 190, 'baby corn manchurian dry': 191, 'paneer 65': 192, 'fish tikka': 193, 'plain kulcha': 194, 'panner butter masala': 195, 'stuffed kulcha': 196, 'masala kulcha': 197, 'paneer chatpat': 198}\n"
          ],
          "name": "stdout"
        }
      ]
    },
    {
      "cell_type": "code",
      "metadata": {
        "id": "c2CAR8mQztxX",
        "colab_type": "code",
        "colab": {
          "base_uri": "https://localhost:8080/",
          "height": 54
        },
        "outputId": "8b6295e5-1977-43bd-d39b-109dc5028ad7"
      },
      "source": [
        "#Matrix representation of data\n",
        "import numpy as np\n",
        "\n",
        "df_group = df.groupby(\"Bill_No\")\n",
        "#bill_cat = np.zeros((len(df_group), len(itemlist)))\n",
        "bill_cat = []\n",
        "bill_dict = {}\n",
        "i = 0\n",
        "for key, item in df_group:\n",
        "  bill_dict[key] = i\n",
        "  i = i+1\n",
        "  catl = []\n",
        "  for value in df_group.get_group(key).ItemName:\n",
        "    catl.append(value)\n",
        "  bill_cat.append(catl)\n",
        "print(bill_cat)"
      ],
      "execution_count": 25,
      "outputs": [
        {
          "output_type": "stream",
          "text": [
            "[['coffee'], ['coffee'], ['pot tea'], ['package drinking water'], ['package drinking water'], ['package drinking water'], ['package drinking water'], ['package drinking water'], ['package drinking water'], ['package drinking water'], ['package drinking water'], ['package drinking water'], ['mutton biriyani'], ['paneer butter masala'], ['chicken tikka', 'baby corn manchurian dry', 'tangdi kebab'], ['chicken biriyani'], ['aloo paratha', 'veg manchurian'], ['chicken biriyani'], ['chicken biriyani'], ['kass special butter chicken'], ['paneer 65'], ['fish tikka'], ['chicken biriyani'], ['veg dum biryani'], ['plain kulcha', 'kadai paneer'], ['chicken biriyani'], ['mutton family pack'], ['chicken biriyani'], ['chicken biriyani'], ['chicken biriyani', 'veg dum biryani'], ['butter naan', 'panner butter masala', 'veg dum biryani'], ['sambar rice'], ['mutton dum biryani'], ['subzi do payaza', 'veg spring roll', 'chicken biriyani', 'stuffed kulcha', 'masala kulcha'], ['american chopsy veg', 'chicken biriyani'], ['sambar rice'], ['paneer chatpat', 'garlic naan', 'veg manchurian'], ['hyderabadi chicken dum biriyani'], ['tangdi kebab', 'tangdi kebab'], ['fried prawns', 'butter naan', 'plain naan', 'paneer tikka masala'], ['chicken biriyani', 'murgh malai kebab', 'tandoori chicken'], ['chilly chicken', 'tandoori chicken'], ['paneer butter masala', 'veg fried rice'], ['apollo fish', 'loose fried prawns', 'sambar rice', 'curd rice', 'mutton biriyani', 'aloo paratha', 'tangdi kebab', 'chilli mushroom'], ['chicken biriyani', 'veg manchurian', 'tangdi kebab'], ['pepper chicken', 'chicken majestic'], ['dal tadka', 'butter naan', 'jeera rice'], ['chicken biriyani', 'tangdi kebab'], ['butter chicken', 'plain naan', 'garlic naan'], ['plain naan'], ['baby corn salt & papper', 'chicken hariyali tikka', 'chilly chicken', 'chilly mushroom'], ['kheema biryani', 'chicken angara kebab', 'loose fried prawns', 'peanut'], ['murgh malai kebab'], ['chicken biriyani', 'veg manchurian'], ['paneer hariyali tikka', 'chicken hariyali tikka', 'chicken majestic', 'package drinking water'], ['chicken hariyali tikka'], ['chicken biriyani'], ['chicken biriyani', 'kheema biryani'], ['tandoori chicken', 'tandoori chicken'], ['chicken biriyani'], ['chicken biriyani'], ['butter naan', 'paneer tikka masala', 'chicken biriyani'], ['mutton family pack'], ['chilly chicken', 'fish kebab', 'mutton dum biryani', 'mixed non veg fried rice'], ['package drinking water'], ['package drinking water', 'pot tea'], ['cool drinks'], ['sweet corn veg', 'tandoori chicken', 'ajwan fish tikka', 'phulka'], ['manchow veg', 'veg. spring roll', 'peshawari paneer tikka', 'veg dum biryani', 'package drinking water'], ['mutton dum pukht', 'package drinking water', 'cool drinks'], ['chicken soft noodles'], ['chicken dum biriyani', 'package drinking water'], ['package drinking water', 'pot tea'], ['chicken dum biriyani'], ['chicken dum biriyani', 'package drinking water', 'cool drinks', 'cool drinks'], ['manchow chicken', 'chicken 65', 'mutton dum pukht', 'package drinking water'], ['manchow veg', 'veg dum biryani', 'chicken lollipop', 'kodi pulao', 'package drinking water'], ['pot tea'], ['manchow chicken', 'package drinking water'], ['french fries', 'package drinking water'], ['sweet corn veg', 'banjara kabab', 'mutton rogan josh', 'phulka', 'package drinking water'], ['butter chicken', 'butter naan', 'package drinking water', 'cool drinks'], ['veg biryani'], ['aloo paratha'], ['chicken dum biriyani', 'butter naan', 'butter chicken', 'murgh tikka masala', 'chicken dum biriyani', 'mutton dum pukht', 'butter naan', 'natukodi biryani'], ['prawns biryani', 'cool drinks'], ['curd rice', 'andhra chicken curry', 'steamed rice', 'package drinking water'], ['paneer butter masala', 'tandoori roti', 'phulka', 'butter naan', 'tandoori roti', 'package drinking water'], ['kadai chicken', 'butter naan', 'phulka', 'chicken biriyani', 'package drinking water', 'package drinking water'], ['tandoori chicken', 'kodi khorma', 'butter naan'], ['chicken dum biriyani'], ['chicken dum biriyani', 'cool drinks'], ['curd rice'], ['manchow chicken', 'drums of heaven', 'mutton dum pukht', 'package drinking water'], ['egg fried rice'], ['drums of heaven', 'veg. / gobi manchurian', 'manchow chicken', 'manchow veg', 'paneer butter masala', 'mutton dum pukht', 'natukodi biryani', 'butter naan', 'chicken dum biriyani', 'butter naan', 'mutton dum pukht', 'package drinking water'], ['curd rice', 'phulka', 'mix veg curry'], ['natukodi biryani', 'ajwan fish tikka', 'package drinking water', 'package drinking water'], ['tandoori roti'], ['chicken dum biriyani', 'package drinking water'], ['chicken biriyani', 'gulab jamun with ice cream', 'chicken biriyani', 'package drinking water', 'cool drinks'], ['tomato kaju curry', 'tandoori roti', 'curd rice', 'jeera rice', 'tandoori roti', 'package drinking water'], ['murgh tikka masala', 'butter naan', 'kheema biryani', 'butter naan', 'package drinking water', 'cool drinks'], ['kaju pulao', 'package drinking water'], ['chicken biriyani', 'gogura mutton biriyani', 'package drinking water', 'cool drinks'], ['phulka', 'veg kolapuri', 'curd rice'], ['garden fresh green salad', 'sambar rice', 'curd rice'], ['chicken tikka', 'natukodi pulao', 'package drinking water', 'cool drinks'], ['kaju pulao'], ['pot tea'], ['phulka', 'omlet'], ['angara kabab', 'chicken dum biriyani', 'package drinking water'], ['tangdi kebab', 'chicken biriyani', 'package drinking water'], ['butter chicken', 'mushroom masala', 'butter naan', 'butter naan', 'package drinking water'], ['phulka', 'butter chicken', 'butter naan', 'sweet corn veg', 'kodi pulao', 'mutton dum biryani', 'package drinking water'], ['chicken biriyani', 'veg dum biryani', 'banjara kabab', 'golden fried prawns', 'chicken biriyani', 'mutton dum biryani', 'package drinking water', 'package drinking water'], ['prawns biryani', 'package drinking water'], ['cool drinks'], ['pot tea'], ['lemon tea'], ['package drinking water'], ['veg manchow soup', 'french fries', 'package drinking water'], ['chicken tikka', 'apollo fish', 'chicken dum biriyani', 'package drinking water', 'package drinking water'], ['curd', 'phulka', 'mushroom masala'], ['crispy corn pepper salt', 'chicken biriyani', 'crispy fish', 'chicken angara kebab', 'veg seka kebab', 'egg burji', 'pulka'], ['mutton dum biryani'], ['package drinking water', 'chicken family pack'], ['chicken manchow', 'drumsticks', 'kadai mutton', 'butter naan', 'package drinking water', 'cool drinks'], ['package drinking water', 'soda'], ['package drinking water'], ['pot tea'], ['mutton dum biryani', 'fresh lime water', 'package drinking water'], ['chicken dum biriyani', 'cool drinks'], ['phulka', 'egg masala', 'curd rice'], ['chicken dum biriyani', 'curd rice'], ['package drinking water'], ['bisibela bath', 'veg dum biryani', 'package drinking water'], ['singapore mixed nonveg noodles', 'jeera rice', 'package drinking water', 'package drinking water'], ['apollo fish', 'chicken dum biriyani'], ['paneer butter masala', 'butter naan', 'kaju pulao', 'paneer biriyani', 'package drinking water', 'cool drinks'], ['chicken biriyani'], ['cool drinks'], ['coffee'], ['gongura mutton biriyani', 'package drinking water', 'cool drinks'], ['curd', 'singapore chicken fried rice'], ['prawns masala', 'tandoori roti', 'package drinking water'], ['garden fresh green salad', 'mushroom salt pepper', 'loose fried prawns', 'laynka kabab', 'omlet', 'chicken biriyani'], ['bisibela bath', 'tangdi kebab biryani', 'paneer hariyali tikka'], ['garden fresh green salad', 'chilli egg', 'sambar rice', 'veg manchurian', 'chicken drum stick'], ['chicken biriyani', 'paneer butter masala', 'paneer tikka masala'], ['mancho soup', 'red hot chicken', 'egg fried rice', 'cool drinks', 'fried fish', 'gongura mutton biriyani', 'chicken family pack'], ['natukodi pulao', 'raju garikodi pulao', 'gulab jamun with ice cream', 'cool drinks', 'package drinking water', 'cool drinks', 'paneer butter masala', 'butter naan', 'jeera rice'], ['pot tea', 'chicken biriyani'], ['phulka', 'methi chaman veg', 'jeera rice', 'tangdi kebab'], ['package drinking water', 'tandoori chicken'], ['mutton dum pukht', 'hyderabadi chicken dum biriyani'], ['curd rice', 'bisibela bath', 'fried fish'], ['phulka', 'apollo fish', 'mix veg curry', 'curd rice', 'prawns biryani'], ['veg biryani', 'package drinking water', 'chilly paneer'], ['egg biryani', 'package drinking water', 'chicken biriyani'], ['package drinking water', 'coffee', 'sambar rice'], ['veg biryani', 'garden fresh green salad', 'package drinking water', 'curd rice'], ['sweet corn nonveg soup', 'red hot chicken', 'butter naan', 'chicken 65', 'butter naan', 'package drinking water', 'cool drinks', 'chicken biriyani'], ['chicken sweet corn veg', 'veg sweet corn veg', 'veg manchurian', 'mutton biriyani', 'veg biryani', 'package drinking water', 'package drinking water', 'hyderabadi chicken dum biriyani'], ['veg manchow soup', 'chilli mushroom', 'paneer biriyani', 'kaju pulao', 'package drinking water', 'mixed non veg noodles'], ['egg biryani', 'chicken biriyani', 'cool drinks', 'package drinking water', 'cool drinks', 'chicken biriyani'], ['mutton dum biryani', 'chicken dum biriyani', 'package drinking water', 'package drinking water', 'kaju pulao'], ['veg manchow soup', 'paneer majestic', 'veg soft noodles', 'murgh tangdi biryani', 'mutton biriyani', 'paneer biriyani', 'package drinking water', 'package drinking water', 'chicken majestic'], ['package drinking water', 'curd rice'], ['veg manchurian', 'mix veg khorma', 'paneer tikka masala', 'plain naan', 'apollo fish', 'bisibela bath', 'package drinking water', 'hyderabadi chicken dum biriyani'], ['american chopsy veg', 'apollo fish', 'methi paneer', 'chicken tikka', 'butter naan', 'garlic naan', 'kadai paneer', 'butter roti', 'methi roti', 'pudina roti'], ['chicken dum biriyani', 'kheema biryani', 'natukodi biryani', 'gongura mutton biriyani', 'natukodi pulao', 'kheema biryani', 'package drinking water', 'kheema biryani', 'butter naan', 'butter kulcha', 'kass special butter chicken'], ['butter pulkha', 'paneer tikka masala', 'a tadka', 'veg fried rice', 'dal fry', 'kass special butter chicken'], ['egg biryani', 'hyderabadi chicken dum biriyani'], ['curd', 'palak paneer', 'butter naan', 'tangdi kebab', 'chicken family pack'], ['chicken manchow', 'golden fried prawns', 'apollo fish', 'curd rice', 'package drinking water', 'chicken tikka', 'plain naan', 'kass special butter chicken'], ['chicken manchow', 'lasooni fish', 'tandoori chicken', 'chicken majestic', 'kheema biryani', 'package drinking water', 'package drinking water', 'malai kofta'], ['veg manchurian', 'chilly egg', 'chicken biriyani', 'chicken fried rice', 'veg biryani', 'package drinking water', 'chicken 65', 'chicken biriyani'], ['chicken 65', 'chicken majestic', 'chicken biriyani'], ['chicken biriyani', 'veg schezwan fried rice'], ['chicken biriyani'], ['hyderabadi chicken dum biriyani', 'tangdi kebab'], ['chicken family pack'], ['chicken biriyani', 'kheema biryani'], ['chicken biriyani'], ['schezwan chicken fried rice'], ['hyderabadi chicken dum biriyani'], ['chicken 65'], ['gobi manchurian', 'chilly paneer', 'kadai paneer', 'butter naan', 'veg fried rice'], ['chicken biriyani'], ['curd rice'], ['murgh haryali tikka'], ['sambar rice'], ['chicken biriyani', 'kheema biryani'], ['kachi gosht dum biryani'], ['chicken biriyani'], ['chicken biriyani family'], ['kheema biryani'], ['chicken biriyani'], ['curd rice'], ['prawns biryani'], ['butter naan', 'kass special butter chicken', 'kadai prawns', 'garlic naan'], ['hyderabadi chicken dum biriyani'], ['chicken schezwan noodles'], ['chicken biriyani'], ['chicken party pack'], ['chicken biriyani'], ['veg schezwan fried rice'], ['veg dum biryani', 'hyderabadi chicken dum biriyani', 'methi chaman veg', 'plain naan'], ['methi chaman veg'], ['veg dum biryani'], ['tangdi kebab'], ['curd rice'], ['gobi manchurian', 'chilly chicken', 'pepper chicken', 'tandoori roti', 'butter paratha'], ['hyderabadi chicken dum biriyani'], ['chilly loose fried prawns', 'tangdi kebab'], ['chicken biriyani'], ['pepper chicken', 'prawns biryani'], ['veg manchurian', 'veg soft noodles'], ['tandoori chicken'], ['veg manchurian', 'chicken 65', 'tangdi kebab'], ['sambar rice'], ['hyderabadi chicken dum biriyani', 'chicken party pack'], ['chicken biriyani'], ['chicken biriyani'], ['tangdi kebab'], ['egg noodles', 'mixed non veg fried rice', 'chicken fried rice'], ['chicken 65'], ['chicken 65'], ['schezwan chicken fried rice', 'schezwan chicken'], ['tangdi kebab'], ['chicken 65', 'chicken biriyani'], ['hyderabadi chicken dum biriyani', 'kheema biryani'], ['tandoori chicken'], ['sambar rice'], ['pepper chicken'], ['chicken biriyani'], ['hyderabadi chicken dum biriyani'], ['butter paratha', 'plain paratha'], ['aloo paratha'], ['butter chicken', 'butter naan'], ['chilly paneer', 'chilly chicken'], ['andhra chicken curry'], ['butter chicken'], ['chicken drum stick'], ['chicken 65', 'chicken avakaya biryani', 'tangdi kebab biryani'], ['chicken biriyani'], ['mutton party pack'], ['chicken biriyani'], ['paneer butter masala', 'veg fried rice'], ['paneer butter masala'], ['tangdi kebab', 'chicken biriyani'], ['butter naan'], ['chicken biriyani'], ['chicken 65', 'mutton avakaya biryani', 'chicken avakaya biryani'], ['kadai murgh', 'plain naan', 'mixed non veg fried rice'], ['tandoori chicken'], ['kadai paneer', 'tandoori roti', 'dal tadka', 'garlic naan'], ['chicken drum stick', 'chicken tikka', 'plain naan', 'butter naan'], ['chilly chicken', 'chicken 65', 'chicken tikka', 'tandoori roti', 'chicken biriyani', 'schezwan chicken'], ['veg schezwan fried rice'], ['chicken biriyani'], ['kachi gosht dum biryani'], ['chicken biriyani'], ['chicken 65', 'chicken drum stick'], ['chicken biriyani'], ['fried prawns'], ['chicken majestic'], ['veg manchurian'], ['mutton family pack'], ['veg dum biryani', 'veg spring roll', 'tandoori chicken'], ['hyderabadi chicken dum biriyani', 'kachi gosht dum biryani'], ['chicken biriyani'], ['veg dum biryani', 'chicken party pack'], ['hyderabadi chicken dum biriyani', 'fish biryani'], ['pepper chicken', 'chicken biriyani'], ['tangdi kebab', 'veg schezwan fried rice'], ['hyderabadi chicken dum biriyani', 'tangdi kebab'], ['hyderabadi chicken dum biriyani'], ['kodi pulao'], ['kodi pulao'], ['hyderabadi chicken dum biriyani'], ['package drinking water'], ['tea'], ['chicken majestic', 'pepper chicken', 'chicken biriyani'], ['chicken party pack'], ['egg biryani', 'chicken biriyani'], ['paneer butter masala', 'butter naan', 'veg fried rice'], ['hyderabadi chicken dum biriyani', 'chicken tikka'], ['chicken lollipop', 'aloo paratha', 'paneer paratha', 'paneer tadaka'], ['hyderabadi chicken dum biriyani', 'egg biryani'], ['hyderabadi chicken dum biriyani', 'kachi gosht dum biryani'], ['chicken biriyani'], ['butter naan', 'babycorn masala'], ['kachi gosht dum biryani'], ['hyderabadi chicken dum biriyani', 'kachi gosht dum biryani', 'dum ka murgh..', 'butter naan', 'zafarni panner curry'], ['package drinking water'], ['hyderabadi chicken dum biriyani'], ['chicken 65'], ['chicken lollipop', 'paneer fried rice'], ['chicken biriyani', 'package drinking water'], ['chicken biriyani'], ['package drinking water'], ['veg manchurian'], ['mutton family pack'], ['hyderabadi chicken dum biriyani'], ['veg dum biryani', 'kachi gosht dum biryani'], ['chicken biriyani'], ['chicken biriyani'], ['tandoori chicken'], ['dal tadka', 'pulka', 'chicken biriyani'], ['kheema biryani', 'chicken majestic'], ['kaju biryani'], ['mutton family pack'], ['veg dum biryani', 'veg spring roll', 'dal fry', 'aloo 65', 'mixed veg fried rice'], ['paneer hariyali tikka', 'murgh haryali tikka', 'package drinking water'], ['chicken biriyani'], ['chicken 65'], ['curd rice', 'veg manchurian'], ['jeera rice', 'andhra chicken curry', 'chicken spring roll'], ['hyderabadi chicken dum biriyani'], ['hyderabadi chicken dum biriyani'], ['paneer butter masala', 'paneer tikka masala', 'butter naan'], ['andhra chicken curry'], ['tandoori roti'], ['veg dum biryani'], ['chicken biriyani', 'chicken majestic'], ['butter naan'], ['kheema biryani', 'chicken biriyani'], ['paneer tikka masala', 'butter naan', 'veg family pack'], ['chicken soup'], ['chicken biriyani'], ['natukodi pulao'], ['chicken biriyani'], ['hyderabadi chicken dum biriyani', 'chicken drum stick', 'prawns fried rice'], ['chilly paneer', 'paneer butter masala', 'butter naan'], ['veg spring roll', 'chilly paneer'], ['veg spring roll', 'chicken angara kebab'], ['paneer biriyani'], ['chicken biriyani'], ['hot n sour chicken soup', 'chilly mushroom'], ['raju garikodi pulao'], ['hyderabadi chicken dum biriyani'], ['hyderabadi chicken dum biriyani'], ['kachi gosht dum biryani'], ['kachi gosht dum biryani', 'gungara chicken dum biriyani'], ['hyderabadi chicken dum biriyani'], ['veg dum biryani'], ['chicken biriyani'], ['chicken biriyani family pack'], ['chicken biriyani'], ['veg dum biryani'], ['hyderabadi chicken dum biriyani'], ['chicken biriyani'], ['jeera rice', 'chicken biriyani', 'veg spring roll', 'tangdi kebab', 'butter chicken', 'butter naan', 'veg fried rice', 'pulka', 'kaju paneer curry'], ['kaju paneer curry', 'pulka'], ['chicken biriyani'], ['chicken biriyani'], ['kodi pulao'], ['chicken drum stick', 'chicken biriyani'], ['hyderabadi chicken dum biriyani'], ['chicken biriyani'], ['kachi gosht dum biryani', 'tangdi kebab'], ['chicken soft noodles', 'schezwan chicken fried rice'], ['veg manchow soup'], ['egg biryani'], ['chicken biriyani'], ['package drinking water'], ['chicken biriyani'], ['tandoori chicken', 'chicken tikka'], ['egg biryani'], ['hyderabadi chicken dum biriyani', 'chicken drum stick'], ['hyderabadi chicken dum biriyani'], ['hyderabadi chicken dum biriyani'], ['royyala iguru'], ['hyderabadi chicken dum biriyani', 'kachi gosht dum biryani', 'paneer tikka masala', 'aloo paratha', 'package drinking water'], ['hyderabadi chicken dum biriyani'], ['tandoori chicken'], ['veg dum biryani', 'crispy fried vegetable', 'paneer hariyali tikka', 'paneer butter masala', 'butter naan'], ['chicken biriyani'], ['hyderabadi chicken dum biriyani'], ['chicken lollipop', 'chicken curry'], ['kachi gosht dum biryani', 'chicken biriyani'], ['chicken angara kebab'], ['butter naan'], ['chicken biriyani'], ['paneer tikka masala'], ['paneer biriyani'], ['paneer biriyani'], ['hyderabadi chicken dum biriyani'], ['methi murg', 'garlic naan', 'chicken fry'], ['chicken biriyani'], ['chicken tikka', 'schezwan chicken fried rice', 'prawns pulao'], ['crispy fried vegetable', 'mixed veg fried rice'], ['mutton biriyani'], ['chicken hariyali tikka'], ['veg manchurian', 'chilly chicken', 'pepper chicken', 'chilly egg'], ['veg dum biryani'], ['chicken biriyani', 'apollo fish'], ['veg dum biryani'], ['hyderabadi chicken dum biriyani'], ['hyderabadi chicken dum biriyani'], ['veg manchurian', 'paneer butter masala', 'butter naan', 'chicken biriyani'], ['hyderabadi chicken dum biriyani', 'chilly chicken'], ['jeera rice', 'chicken biriyani'], ['chicken biriyani'], ['package drinking water'], ['chicken biriyani'], ['veg spring roll', 'palak paneer'], ['hyderabadi chicken dum biriyani', 'three spice- chicken', 'tandoori chicken'], ['chicken biriyani'], ['kheema biryani', 'telangana mutton curry', 'chicken fried rice'], ['sambar rice', 'babycorn majestic'], ['paneer tikka masala', 'tandoori roti', 'subzi do payaza', 'garlic naan'], ['chicken biriyani'], ['curd rice', 'jeera rice', 'andhra chicken curry'], ['chicken biriyani'], ['chicken biriyani'], ['kachi gosht dum biryani', 'chilly paneer', 'dragon chicken..', 'tangdi kebab', 'dal tadka', 'tawa fish', 'chicken fry', 'pulka'], ['paneer butter masala'], ['jeera rice', 'veg manchurian', 'chilly paneer', 'dal fry'], ['chicken biriyani'], ['kheema biryani', 'chicken hariyali tikka', 'chicken angara kebab', 'veg manchurian'], ['chicken tikka', 'tandoori chicken', 'paneer butter masala'], ['chicken biriyani'], ['kachi gosht dum biryani'], ['chicken 65', 'chicken biriyani'], ['hyderabadi chicken dum biriyani']]\n"
          ],
          "name": "stdout"
        }
      ]
    },
    {
      "cell_type": "code",
      "metadata": {
        "id": "_6YuTB420R5Z",
        "colab_type": "code",
        "colab": {
          "base_uri": "https://localhost:8080/",
          "height": 34
        },
        "outputId": "2c797bcd-364b-4b21-dd64-2e5e94934448"
      },
      "source": [
        "#Loading the transform matrix\n",
        "\n",
        "file_path_matrix = '/content/TransformationMatrix.csv'\n",
        "T_M = pd.read_csv(file_path_matrix, header= None).to_numpy()\n",
        "print(T_M.shape)\n"
      ],
      "execution_count": 10,
      "outputs": [
        {
          "output_type": "stream",
          "text": [
            "(199, 199)\n"
          ],
          "name": "stdout"
        }
      ]
    },
    {
      "cell_type": "code",
      "metadata": {
        "id": "slo35EbVV4I_",
        "colab_type": "code",
        "colab": {
          "base_uri": "https://localhost:8080/",
          "height": 34
        },
        "outputId": "b0d703a6-0130-4d41-d3a7-c12b699c1659"
      },
      "source": [
        "#K-Means Coordinate matrix\n",
        "\n",
        "K = np.dot(bill_cat,T_M)\n",
        "\n",
        "print(K.shape)"
      ],
      "execution_count": 11,
      "outputs": [
        {
          "output_type": "stream",
          "text": [
            "(428, 199)\n"
          ],
          "name": "stdout"
        }
      ]
    },
    {
      "cell_type": "code",
      "metadata": {
        "id": "zFuvx_ASa2q4",
        "colab_type": "code",
        "colab": {}
      },
      "source": [
        "from sklearn.cluster import KMeans\n",
        "\n",
        "K_modle = KMeans(n_clusters=100, max_iter=600)"
      ],
      "execution_count": 12,
      "outputs": []
    },
    {
      "cell_type": "code",
      "metadata": {
        "id": "smPucJwPnqNr",
        "colab_type": "code",
        "colab": {
          "base_uri": "https://localhost:8080/",
          "height": 70
        },
        "outputId": "5509ed3e-ba91-440b-9367-4afaf859a4b5"
      },
      "source": [
        "n = int(K.shape[0]*0.6)\n",
        "X_train = K[:n,:]\n",
        "K_modle.fit(X_train)"
      ],
      "execution_count": 13,
      "outputs": [
        {
          "output_type": "execute_result",
          "data": {
            "text/plain": [
              "KMeans(algorithm='auto', copy_x=True, init='k-means++', max_iter=600,\n",
              "       n_clusters=100, n_init=10, n_jobs=None, precompute_distances='auto',\n",
              "       random_state=None, tol=0.0001, verbose=0)"
            ]
          },
          "metadata": {
            "tags": []
          },
          "execution_count": 13
        }
      ]
    },
    {
      "cell_type": "code",
      "metadata": {
        "id": "9RqbnY4qoLvC",
        "colab_type": "code",
        "colab": {
          "base_uri": "https://localhost:8080/",
          "height": 298
        },
        "outputId": "9902e8bc-9c99-4351-8f07-dc87903d0b4a"
      },
      "source": [
        "K_modle.fit_predict(X_train)"
      ],
      "execution_count": 14,
      "outputs": [
        {
          "output_type": "execute_result",
          "data": {
            "text/plain": [
              "array([44, 44, 21,  3,  3,  3,  3,  3,  3,  3,  3,  3, 72, 11, 42,  2, 27,\n",
              "        2,  2, 70, 72, 72,  2, 59,  0,  2, 31,  2,  2,  2, 12, 19, 51, 97,\n",
              "        2, 19, 28, 10, 42, 89, 77, 23, 11,  7,  5, 33, 12,  5, 54, 54, 96,\n",
              "       26, 72,  2, 95, 72,  2, 73, 23,  2,  2, 76, 31, 78,  3,  3,  9, 69,\n",
              "       35,  3, 72, 60,  3,  4, 60, 98, 40, 21,  3,  3, 58, 30, 72, 27, 45,\n",
              "       75, 22, 55, 66, 91,  4,  4, 34, 13, 72, 43, 86, 88, 72, 60, 25, 79,\n",
              "       80,  3, 87, 83, 19, 82,  1, 21, 72, 60,  5, 30, 47, 64, 75,  9, 21,\n",
              "       72,  3, 92, 85, 18, 20, 51,  3, 61,  3,  3, 21, 51,  4, 86,  4,  3,\n",
              "        3,  3,  4, 65,  2,  9, 44,  3, 72,  3, 46, 71, 48, 76, 36, 15,  2,\n",
              "       37, 23, 10, 34,  6, 67, 25, 19, 90, 63, 32, 50, 25, 60, 38, 22,  8,\n",
              "       29, 24, 41, 10, 74, 14, 39, 57, 52,  2,  2, 42, 72, 73,  2, 49, 10,\n",
              "       16, 56,  2, 34, 72, 19, 73, 72,  2, 72, 73,  2, 34, 75, 81, 10, 72,\n",
              "        2, 72,  2, 72, 62, 72, 59, 42, 34, 53, 10, 42,  2, 75, 28, 23, 93,\n",
              "       19, 10,  2,  2, 42, 68, 16, 16, 49, 42, 52, 10, 23, 19, 33,  2, 10,\n",
              "       94, 27, 12, 17, 72, 72, 72, 99,  2, 72,  2, 11, 11,  5, 12,  2, 16,\n",
              "       84], dtype=int32)"
            ]
          },
          "metadata": {
            "tags": []
          },
          "execution_count": 14
        }
      ]
    },
    {
      "cell_type": "code",
      "metadata": {
        "id": "fwUuCt4MquP8",
        "colab_type": "code",
        "colab": {}
      },
      "source": [
        "from apyori import apriori\n",
        "\n",
        "A = apriori(bill_cat, min_support = 0.01, min_confidence = 0.0, min_lift = 3, min_length = 2)"
      ],
      "execution_count": 26,
      "outputs": []
    },
    {
      "cell_type": "code",
      "metadata": {
        "id": "ubdnOgMGmQ3o",
        "colab_type": "code",
        "colab": {
          "base_uri": "https://localhost:8080/",
          "height": 54
        },
        "outputId": "a56ae93c-2f5c-40f5-8344-a1c7a24c5c65"
      },
      "source": [
        "print(list(A))"
      ],
      "execution_count": 27,
      "outputs": [
        {
          "output_type": "stream",
          "text": [
            "[RelationRecord(items=frozenset({'butter naan', 'butter chicken'}), support=0.014018691588785047, ordered_statistics=[OrderedStatistic(items_base=frozenset({'butter chicken'}), items_add=frozenset({'butter naan'}), confidence=0.75, lift=8.916666666666668), OrderedStatistic(items_base=frozenset({'butter naan'}), items_add=frozenset({'butter chicken'}), confidence=0.16666666666666669, lift=8.916666666666668)]), RelationRecord(items=frozenset({'cool drinks', 'butter naan'}), support=0.014018691588785047, ordered_statistics=[OrderedStatistic(items_base=frozenset({'butter naan'}), items_add=frozenset({'cool drinks'}), confidence=0.16666666666666669, lift=3.5666666666666673), OrderedStatistic(items_base=frozenset({'cool drinks'}), items_add=frozenset({'butter naan'}), confidence=0.3, lift=3.566666666666667)]), RelationRecord(items=frozenset({'butter naan', 'paneer butter masala'}), support=0.02102803738317757, ordered_statistics=[OrderedStatistic(items_base=frozenset({'butter naan'}), items_add=frozenset({'paneer butter masala'}), confidence=0.25, lift=6.687500000000001), OrderedStatistic(items_base=frozenset({'paneer butter masala'}), items_add=frozenset({'butter naan'}), confidence=0.5625, lift=6.6875)]), RelationRecord(items=frozenset({'cool drinks', 'package drinking water'}), support=0.030373831775700934, ordered_statistics=[OrderedStatistic(items_base=frozenset({'cool drinks'}), items_add=frozenset({'package drinking water'}), confidence=0.65, lift=3.3926829268292686), OrderedStatistic(items_base=frozenset({'package drinking water'}), items_add=frozenset({'cool drinks'}), confidence=0.15853658536585366, lift=3.3926829268292686)]), RelationRecord(items=frozenset({'cool drinks', 'butter naan', 'package drinking water'}), support=0.014018691588785047, ordered_statistics=[OrderedStatistic(items_base=frozenset({'butter naan'}), items_add=frozenset({'cool drinks', 'package drinking water'}), confidence=0.16666666666666669, lift=5.487179487179488), OrderedStatistic(items_base=frozenset({'cool drinks'}), items_add=frozenset({'butter naan', 'package drinking water'}), confidence=0.3, lift=10.7), OrderedStatistic(items_base=frozenset({'package drinking water'}), items_add=frozenset({'cool drinks', 'butter naan'}), confidence=0.07317073170731707, lift=5.219512195121951), OrderedStatistic(items_base=frozenset({'cool drinks', 'butter naan'}), items_add=frozenset({'package drinking water'}), confidence=1.0, lift=5.219512195121951), OrderedStatistic(items_base=frozenset({'butter naan', 'package drinking water'}), items_add=frozenset({'cool drinks'}), confidence=0.5, lift=10.700000000000001), OrderedStatistic(items_base=frozenset({'cool drinks', 'package drinking water'}), items_add=frozenset({'butter naan'}), confidence=0.4615384615384615, lift=5.487179487179487)])]\n"
          ],
          "name": "stdout"
        }
      ]
    },
    {
      "cell_type": "code",
      "metadata": {
        "id": "cgRVS33OmiYw",
        "colab_type": "code",
        "colab": {}
      },
      "source": [
        ""
      ],
      "execution_count": null,
      "outputs": []
    }
  ]
}