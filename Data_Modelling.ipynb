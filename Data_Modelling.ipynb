{
  "nbformat": 4,
  "nbformat_minor": 0,
  "metadata": {
    "colab": {
      "name": "Data Modelling.ipynb",
      "provenance": [],
      "mount_file_id": "1QU2kOt9U3TFmtbjm-3deWVRm48pARChx",
      "authorship_tag": "ABX9TyNcSIK/t/s3LHcSRVgVW7Ia",
      "include_colab_link": true
    },
    "kernelspec": {
      "name": "python3",
      "display_name": "Python 3"
    }
  },
  "cells": [
    {
      "cell_type": "markdown",
      "metadata": {
        "id": "view-in-github",
        "colab_type": "text"
      },
      "source": [
        "<a href=\"https://colab.research.google.com/github/Nirhar/KOT/blob/master/Data_Modelling.ipynb\" target=\"_parent\"><img src=\"https://colab.research.google.com/assets/colab-badge.svg\" alt=\"Open In Colab\"/></a>"
      ]
    },
    {
      "cell_type": "code",
      "metadata": {
        "id": "5-emEI-7tmA1",
        "colab_type": "code",
        "colab": {}
      },
      "source": [
        ""
      ],
      "execution_count": null,
      "outputs": []
    },
    {
      "cell_type": "code",
      "metadata": {
        "id": "z2vZxoH0tJuK",
        "colab_type": "code",
        "colab": {}
      },
      "source": [
        "import pandas as pd\n",
        "import numpy as np"
      ],
      "execution_count": 4,
      "outputs": []
    },
    {
      "cell_type": "code",
      "metadata": {
        "id": "f18irTgCtWL1",
        "colab_type": "code",
        "colab": {}
      },
      "source": [
        "data=pd.read_csv('/content/drive/My Drive/Colab Notebooks/KOT-Restaurant/KOT_Data_Modified.csv')"
      ],
      "execution_count": 5,
      "outputs": []
    },
    {
      "cell_type": "code",
      "metadata": {
        "id": "02aPenkRtsw3",
        "colab_type": "code",
        "colab": {
          "base_uri": "https://localhost:8080/",
          "height": 366
        },
        "outputId": "48c59793-6fb4-48b1-df80-c86b0431a738"
      },
      "source": [
        "data.head()"
      ],
      "execution_count": 6,
      "outputs": [
        {
          "output_type": "execute_result",
          "data": {
            "text/html": [
              "<div>\n",
              "<style scoped>\n",
              "    .dataframe tbody tr th:only-of-type {\n",
              "        vertical-align: middle;\n",
              "    }\n",
              "\n",
              "    .dataframe tbody tr th {\n",
              "        vertical-align: top;\n",
              "    }\n",
              "\n",
              "    .dataframe thead th {\n",
              "        text-align: right;\n",
              "    }\n",
              "</style>\n",
              "<table border=\"1\" class=\"dataframe\">\n",
              "  <thead>\n",
              "    <tr style=\"text-align: right;\">\n",
              "      <th></th>\n",
              "      <th>KOT#</th>\n",
              "      <th>RestaurantName</th>\n",
              "      <th>Classification</th>\n",
              "      <th>KOT Time</th>\n",
              "      <th>Tbl/Room#</th>\n",
              "      <th>ItemName</th>\n",
              "      <th>Rate</th>\n",
              "      <th>Quantity</th>\n",
              "      <th>Total Amount</th>\n",
              "      <th>Bill No</th>\n",
              "      <th>RestaurantName.1</th>\n",
              "      <th>Classification.1</th>\n",
              "      <th>Type</th>\n",
              "      <th>ClassName</th>\n",
              "    </tr>\n",
              "  </thead>\n",
              "  <tbody>\n",
              "    <tr>\n",
              "      <th>0</th>\n",
              "      <td>160.0</td>\n",
              "      <td>Home Delivery</td>\n",
              "      <td>FOOD</td>\n",
              "      <td>12.14</td>\n",
              "      <td>15</td>\n",
              "      <td>CHILLY CHICKEN</td>\n",
              "      <td>289.0</td>\n",
              "      <td>1.0</td>\n",
              "      <td>289.0</td>\n",
              "      <td>162.0</td>\n",
              "      <td>NaN</td>\n",
              "      <td>NaN</td>\n",
              "      <td>NaN</td>\n",
              "      <td>NaN</td>\n",
              "    </tr>\n",
              "    <tr>\n",
              "      <th>1</th>\n",
              "      <td>160.0</td>\n",
              "      <td>Home Delivery</td>\n",
              "      <td>FOOD</td>\n",
              "      <td>12.14</td>\n",
              "      <td>15</td>\n",
              "      <td>TANDOORI CHICKEN HALF</td>\n",
              "      <td>279.0</td>\n",
              "      <td>1.0</td>\n",
              "      <td>279.0</td>\n",
              "      <td>162.0</td>\n",
              "      <td>NaN</td>\n",
              "      <td>NaN</td>\n",
              "      <td>NaN</td>\n",
              "      <td>NaN</td>\n",
              "    </tr>\n",
              "    <tr>\n",
              "      <th>2</th>\n",
              "      <td>161.0</td>\n",
              "      <td>Home Delivery</td>\n",
              "      <td>FOOD</td>\n",
              "      <td>12.43</td>\n",
              "      <td>11</td>\n",
              "      <td>PANEER BUTTER MASALA..</td>\n",
              "      <td>230.0</td>\n",
              "      <td>1.0</td>\n",
              "      <td>230.0</td>\n",
              "      <td>163.0</td>\n",
              "      <td>NaN</td>\n",
              "      <td>NaN</td>\n",
              "      <td>NaN</td>\n",
              "      <td>NaN</td>\n",
              "    </tr>\n",
              "    <tr>\n",
              "      <th>3</th>\n",
              "      <td>161.0</td>\n",
              "      <td>Home Delivery</td>\n",
              "      <td>FOOD</td>\n",
              "      <td>12.43</td>\n",
              "      <td>11</td>\n",
              "      <td>VEG FRIED RICE</td>\n",
              "      <td>210.0</td>\n",
              "      <td>2.0</td>\n",
              "      <td>420.0</td>\n",
              "      <td>163.0</td>\n",
              "      <td>Home Dellvery</td>\n",
              "      <td>Food</td>\n",
              "      <td>I</td>\n",
              "      <td>1.0</td>\n",
              "    </tr>\n",
              "    <tr>\n",
              "      <th>4</th>\n",
              "      <td>162.0</td>\n",
              "      <td>Home Delivery</td>\n",
              "      <td>FOOD</td>\n",
              "      <td>13.54</td>\n",
              "      <td>15</td>\n",
              "      <td>APOLLO FISH</td>\n",
              "      <td>309.0</td>\n",
              "      <td>1.0</td>\n",
              "      <td>309.0</td>\n",
              "      <td>164.0</td>\n",
              "      <td>Home Dellvery</td>\n",
              "      <td>Food</td>\n",
              "      <td>I</td>\n",
              "      <td>1.0</td>\n",
              "    </tr>\n",
              "  </tbody>\n",
              "</table>\n",
              "</div>"
            ],
            "text/plain": [
              "    KOT# RestaurantName Classification  ...  Classification.1 Type ClassName\n",
              "0  160.0  Home Delivery           FOOD  ...               NaN  NaN       NaN\n",
              "1  160.0  Home Delivery           FOOD  ...               NaN  NaN       NaN\n",
              "2  161.0  Home Delivery           FOOD  ...               NaN  NaN       NaN\n",
              "3  161.0  Home Delivery           FOOD  ...              Food    I       1.0\n",
              "4  162.0  Home Delivery           FOOD  ...              Food    I       1.0\n",
              "\n",
              "[5 rows x 14 columns]"
            ]
          },
          "metadata": {
            "tags": []
          },
          "execution_count": 6
        }
      ]
    },
    {
      "cell_type": "code",
      "metadata": {
        "id": "pdvmRbf4twV_",
        "colab_type": "code",
        "colab": {}
      },
      "source": [
        ""
      ],
      "execution_count": null,
      "outputs": []
    }
  ]
}